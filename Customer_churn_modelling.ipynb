{
 "cells": [
  {
   "cell_type": "markdown",
   "metadata": {},
   "source": [
    "# Отток клиентов"
   ]
  },
  {
   "cell_type": "markdown",
   "metadata": {},
   "source": [
    "Из «Бета-Банка» стали уходить клиенты. Каждый месяц. Немного, но заметно. Банковские маркетологи посчитали: сохранять текущих клиентов дешевле, чем привлекать новых.\n",
    "\n",
    "**Нужно спрогнозировать**, уйдёт клиент из банка в ближайшее время или нет. Вам предоставлены исторические данные о поведении клиентов и расторжении договоров с банком. \n",
    "\n",
    "**Постройте модель** с предельно большим значением *F1*-меры. Чтобы сдать проект успешно, нужно довести метрику до **0.59**. Проверьте *F1*-меру на тестовой выборке самостоятельно. Дополнительно измеряйте *AUC-ROC*, сравнивайте её значение с *F1*-мерой.\n",
    "\n",
    "Источник данных: [www.kaggle.com](https://www.kaggle.com/barelydedicated/bank-customer-churn-modeling)"
   ]
  },
  {
   "cell_type": "markdown",
   "metadata": {
    "toc": true
   },
   "source": [
    "<h1>Содержание<span class=\"tocSkip\"></span></h1>\n",
    "<div class=\"toc\"><ul class=\"toc-item\"><li><span><a href=\"#1.-Подготовка-данных\" data-toc-modified-id=\"1.-Подготовка-данных-1\"><span class=\"toc-item-num\">1&nbsp;&nbsp;</span>1. Подготовка данных</a></span><ul class=\"toc-item\">\n",
    "    <li><span><a href=\"#1.1.-Чтение-и-знакомство-с-данными\" data-toc-modified-id=\"1.1.-Чтение-и-знакомство-с-данными-1.1\"><span class=\"toc-item-num\">1.1&nbsp;&nbsp;</span>1.1. Чтение и знакомство с данными</a></span></li>\n",
    "    <li><span><a href=\"#1.2.-Стандартизация-названий-колонок\" data-toc-modified-id=\"1.2.-Стандартизация-названий-колонок-1.2\"><span class=\"toc-item-num\">1.2&nbsp;&nbsp;</span>1.2. Стандартизация названий колонок</a></span></li>\n",
    "    <li><span><a href=\"#1.3.-Определение-признаков\" data-toc-modified-id=\"1.3.-Определение-признаков-1.3\"><span class=\"toc-item-num\">1.3&nbsp;&nbsp;</span>1.3. Определение признаков</a></span></li>\n",
    "    <li><span><a href=\"#1.4.-Валидация-данных\" data-toc-modified-id=\"1.4.-Валидация-данных-1.4\"><span class=\"toc-item-num\">1.4&nbsp;&nbsp;</span>1.4. Валидация данных</a></span></li>\n",
    "    <li><span><a href=\"#1.5.-Кодирование-признаков-(One-Hot-Encoding)\" data-toc-modified-id=\"1.5.-Кодирование-признаков-(One-Hot-Encoding)-1.5\"><span class=\"toc-item-num\">1.5&nbsp;&nbsp;</span>1.5. Кодирование признаков (One-Hot Encoding)</a></span></li>\n",
    "    <li><span><a href=\"#1.6.-Масштабирование-признаков\" data-toc-modified-id=\"1.6.-Масштабирование-признаков-1.6\"><span class=\"toc-item-num\">1.6&nbsp;&nbsp;</span>1.6. Масштабирование признаков</a></span></li></ul></li>\n",
    "    <li><span><a href=\"#2.-Исследование-задачи\" data-toc-modified-id=\"2.-Исследование-задачи-2\"><span class=\"toc-item-num\">2&nbsp;&nbsp;</span>2. Исследование задачи</a></span><ul class=\"toc-item\">\n",
    "    <li><span><a href=\"#2.1.-Логистическая-регрессия-(LR)\" data-toc-modified-id=\"2.1.-Логистическая-регрессия-(LR)-2.1\"><span class=\"toc-item-num\">2.1&nbsp;&nbsp;</span>2.1. Логистическая регрессия (LR)</a></span></li>\n",
    "    <li><span><a href=\"#2.2.-Решающее-дерево-(DT)\" data-toc-modified-id=\"2.2.-Решающее-дерево-(DT)-2.2\"><span class=\"toc-item-num\">2.2&nbsp;&nbsp;</span>2.2. Решающее дерево (DT)</a></span></li>\n",
    "    <li><span><a href=\"#2.3.-Случайный-лес-(RF)\" data-toc-modified-id=\"2.3.-Случайный-лес-(RF)-2.3\"><span class=\"toc-item-num\">2.3&nbsp;&nbsp;</span>2.3. Случайный лес (RF)</a></span></li></ul></li>\n",
    "    <li><span><a href=\"#3.-Борьба-с-дисбалансом\" data-toc-modified-id=\"3.-Борьба-с-дисбалансом-3\"><span class=\"toc-item-num\">3&nbsp;&nbsp;</span>3. Борьба с дисбалансом</a></span><ul class=\"toc-item\">\n",
    "    <li><span><a href=\"#3.1.-Изменение-веса-классов\" data-toc-modified-id=\"3.1.-Изменение-веса-классов-3.1\"><span class=\"toc-item-num\">3.1&nbsp;&nbsp;</span>3.1. Изменение веса классов</a></span></li>\n",
    "    <li><span><a href=\"#3.2.-Изменение-порога-классификации\" data-toc-modified-id=\"3.2.-Изменение-порога-классификации-3.2\"><span class=\"toc-item-num\">3.2&nbsp;&nbsp;</span>3.2. Изменение порога классификации</a></span></li>\n",
    "    <li><span><a href=\"#3.3.-Уменьшение-выборки-(DownSampling)\" data-toc-modified-id=\"3.3.-Уменьшение-выборки-(DownSampling)-3.3\"><span class=\"toc-item-num\">3.3&nbsp;&nbsp;</span>3.3. Уменьшение выборки (DownSampling)</a></span></li>\n",
    "    <li><span><a href=\"#3.4.-Увеличение-выборки-(UpSampling)\" data-toc-modified-id=\"3.4.-Увеличение-выборки-(UpSampling)-3.4\"><span class=\"toc-item-num\">3.4&nbsp;&nbsp;</span>3.4. Увеличение выборки (UpSampling)</a></span></li></ul></li>\n",
    "    <li><span><a href=\"#4.-Тестирование-модели\" data-toc-modified-id=\"4.-Тестирование-модели-4\"><span class=\"toc-item-num\">4&nbsp;&nbsp;</span>4. Тестирование модели</a></span></li></ul></div>"
   ]
  },
  {
   "cell_type": "markdown",
   "metadata": {},
   "source": [
    "## 1. Подготовка данных"
   ]
  },
  {
   "cell_type": "code",
   "execution_count": 2,
   "metadata": {},
   "outputs": [],
   "source": [
    "import numpy as np\n",
    "import pandas as pd\n",
    "\n",
    "from tqdm.notebook import tqdm\n",
    "from matplotlib import pyplot as plt\n",
    "\n",
    "from sklearn.tree import DecisionTreeClassifier, plot_tree\n",
    "from sklearn.ensemble import RandomForestClassifier\n",
    "from sklearn.linear_model import LogisticRegression\n",
    "from sklearn.utils import shuffle\n",
    "from sklearn.model_selection import train_test_split\n",
    "from sklearn.preprocessing import StandardScaler\n",
    "from sklearn.metrics import recall_score, precision_score, precision_recall_curve, f1_score, roc_auc_score, roc_curve"
   ]
  },
  {
   "cell_type": "markdown",
   "metadata": {},
   "source": [
    "### 1.1. Чтение и знакомство с данными"
   ]
  },
  {
   "cell_type": "code",
   "execution_count": 3,
   "metadata": {
    "scrolled": true
   },
   "outputs": [
    {
     "data": {
      "text/html": [
       "<div>\n",
       "<style scoped>\n",
       "    .dataframe tbody tr th:only-of-type {\n",
       "        vertical-align: middle;\n",
       "    }\n",
       "\n",
       "    .dataframe tbody tr th {\n",
       "        vertical-align: top;\n",
       "    }\n",
       "\n",
       "    .dataframe thead th {\n",
       "        text-align: right;\n",
       "    }\n",
       "</style>\n",
       "<table border=\"1\" class=\"dataframe\">\n",
       "  <thead>\n",
       "    <tr style=\"text-align: right;\">\n",
       "      <th></th>\n",
       "      <th>CustomerId</th>\n",
       "      <th>Surname</th>\n",
       "      <th>CreditScore</th>\n",
       "      <th>Geography</th>\n",
       "      <th>Gender</th>\n",
       "      <th>Age</th>\n",
       "      <th>Tenure</th>\n",
       "      <th>Balance</th>\n",
       "      <th>NumOfProducts</th>\n",
       "      <th>HasCrCard</th>\n",
       "      <th>IsActiveMember</th>\n",
       "      <th>EstimatedSalary</th>\n",
       "      <th>Exited</th>\n",
       "    </tr>\n",
       "  </thead>\n",
       "  <tbody>\n",
       "    <tr>\n",
       "      <th>0</th>\n",
       "      <td>15634602</td>\n",
       "      <td>Hargrave</td>\n",
       "      <td>619</td>\n",
       "      <td>France</td>\n",
       "      <td>Female</td>\n",
       "      <td>42</td>\n",
       "      <td>2</td>\n",
       "      <td>0.00</td>\n",
       "      <td>1</td>\n",
       "      <td>1</td>\n",
       "      <td>1</td>\n",
       "      <td>101348.88</td>\n",
       "      <td>1</td>\n",
       "    </tr>\n",
       "    <tr>\n",
       "      <th>1</th>\n",
       "      <td>15647311</td>\n",
       "      <td>Hill</td>\n",
       "      <td>608</td>\n",
       "      <td>Spain</td>\n",
       "      <td>Female</td>\n",
       "      <td>41</td>\n",
       "      <td>1</td>\n",
       "      <td>83807.86</td>\n",
       "      <td>1</td>\n",
       "      <td>0</td>\n",
       "      <td>1</td>\n",
       "      <td>112542.58</td>\n",
       "      <td>0</td>\n",
       "    </tr>\n",
       "    <tr>\n",
       "      <th>2</th>\n",
       "      <td>15619304</td>\n",
       "      <td>Onio</td>\n",
       "      <td>502</td>\n",
       "      <td>France</td>\n",
       "      <td>Female</td>\n",
       "      <td>42</td>\n",
       "      <td>8</td>\n",
       "      <td>159660.80</td>\n",
       "      <td>3</td>\n",
       "      <td>1</td>\n",
       "      <td>0</td>\n",
       "      <td>113931.57</td>\n",
       "      <td>1</td>\n",
       "    </tr>\n",
       "    <tr>\n",
       "      <th>3</th>\n",
       "      <td>15701354</td>\n",
       "      <td>Boni</td>\n",
       "      <td>699</td>\n",
       "      <td>France</td>\n",
       "      <td>Female</td>\n",
       "      <td>39</td>\n",
       "      <td>1</td>\n",
       "      <td>0.00</td>\n",
       "      <td>2</td>\n",
       "      <td>0</td>\n",
       "      <td>0</td>\n",
       "      <td>93826.63</td>\n",
       "      <td>0</td>\n",
       "    </tr>\n",
       "    <tr>\n",
       "      <th>4</th>\n",
       "      <td>15737888</td>\n",
       "      <td>Mitchell</td>\n",
       "      <td>850</td>\n",
       "      <td>Spain</td>\n",
       "      <td>Female</td>\n",
       "      <td>43</td>\n",
       "      <td>2</td>\n",
       "      <td>125510.82</td>\n",
       "      <td>1</td>\n",
       "      <td>1</td>\n",
       "      <td>1</td>\n",
       "      <td>79084.10</td>\n",
       "      <td>0</td>\n",
       "    </tr>\n",
       "  </tbody>\n",
       "</table>\n",
       "</div>"
      ],
      "text/plain": [
       "   CustomerId   Surname  CreditScore Geography  Gender  Age  Tenure  \\\n",
       "0    15634602  Hargrave          619    France  Female   42       2   \n",
       "1    15647311      Hill          608     Spain  Female   41       1   \n",
       "2    15619304      Onio          502    France  Female   42       8   \n",
       "3    15701354      Boni          699    France  Female   39       1   \n",
       "4    15737888  Mitchell          850     Spain  Female   43       2   \n",
       "\n",
       "     Balance  NumOfProducts  HasCrCard  IsActiveMember  EstimatedSalary  \\\n",
       "0       0.00              1          1               1        101348.88   \n",
       "1   83807.86              1          0               1        112542.58   \n",
       "2  159660.80              3          1               0        113931.57   \n",
       "3       0.00              2          0               0         93826.63   \n",
       "4  125510.82              1          1               1         79084.10   \n",
       "\n",
       "   Exited  \n",
       "0       1  \n",
       "1       0  \n",
       "2       1  \n",
       "3       0  \n",
       "4       0  "
      ]
     },
     "metadata": {},
     "output_type": "display_data"
    }
   ],
   "source": [
    "try:\n",
    "    try:\n",
    "        df = pd.read_csv('datasets\\Churn_Modelling.csv') #домашняя версия\n",
    "    except:\n",
    "        df = pd.read_csv('/datasets/Churn.csv') #сетевая версия\n",
    "        \n",
    "    df.drop(['RowNumber'], axis=1, inplace=True) # удаляю дублирующую колонку с индексацией строк\n",
    "    display(df.head())\n",
    "    \n",
    "except:\n",
    "    print('Не удалось прочесть файл. Возможно, был указан не верный путь.')"
   ]
  },
  {
   "cell_type": "markdown",
   "metadata": {},
   "source": [
    "**Признаки:**\n",
    "- `Surname` — фамилия\n",
    "- `CreditScore` — кредитный рейтинг\n",
    "- `Geography` — страна проживания\n",
    "- `Gender` — пол\n",
    "- `Age` — возраст\n",
    "- `Tenure` — сколько лет человек является клиентом банка\n",
    "- `Balance` — баланс на счёте\n",
    "- `NumOfProducts` — количество продуктов банка, используемых клиентом\n",
    "- `HasCrCard` — наличие кредитной карты \n",
    "- `IsActiveMember` — активность клиента\n",
    "- `EstimatedSalary` — предполагаемая зарплата\n",
    "\n",
    "**Целевой признак:**\n",
    "- `Exited` — факт ухода клиента\n",
    "\n",
    "**Вспомогательные колонки:**\n",
    "- `RowNumber` — индекс строки в данных (_не используется в данной работе_)\n",
    "- `CustomerId` — уникальный идентификатор клиента"
   ]
  },
  {
   "cell_type": "code",
   "execution_count": 3,
   "metadata": {},
   "outputs": [
    {
     "name": "stdout",
     "output_type": "stream",
     "text": [
      "<class 'pandas.core.frame.DataFrame'>\n",
      "RangeIndex: 10000 entries, 0 to 9999\n",
      "Data columns (total 13 columns):\n",
      " #   Column           Non-Null Count  Dtype  \n",
      "---  ------           --------------  -----  \n",
      " 0   CustomerId       10000 non-null  int64  \n",
      " 1   Surname          10000 non-null  object \n",
      " 2   CreditScore      10000 non-null  int64  \n",
      " 3   Geography        10000 non-null  object \n",
      " 4   Gender           10000 non-null  object \n",
      " 5   Age              10000 non-null  int64  \n",
      " 6   Tenure           10000 non-null  int64  \n",
      " 7   Balance          10000 non-null  float64\n",
      " 8   NumOfProducts    10000 non-null  int64  \n",
      " 9   HasCrCard        10000 non-null  int64  \n",
      " 10  IsActiveMember   10000 non-null  int64  \n",
      " 11  EstimatedSalary  10000 non-null  float64\n",
      " 12  Exited           10000 non-null  int64  \n",
      "dtypes: float64(2), int64(8), object(3)\n",
      "memory usage: 1015.8+ KB\n"
     ]
    }
   ],
   "source": [
    "df.info()"
   ]
  },
  {
   "cell_type": "markdown",
   "metadata": {},
   "source": [
    "### 1.2. Стандартизация названий колонок"
   ]
  },
  {
   "cell_type": "code",
   "execution_count": 4,
   "metadata": {},
   "outputs": [],
   "source": [
    "# функция преобразования верблюжего регистра в змеиный\n",
    "def camel_to_snake(column):\n",
    "    for char in column:\n",
    "        if char.isupper():\n",
    "            column = column.replace(char, '_' + char.lower())\n",
    "    return column[1:]"
   ]
  },
  {
   "cell_type": "code",
   "execution_count": 5,
   "metadata": {},
   "outputs": [
    {
     "name": "stdout",
     "output_type": "stream",
     "text": [
      "Index(['customer_id', 'surname', 'credit_score', 'geography', 'gender', 'age',\n",
      "       'tenure', 'balance', 'num_of_products', 'has_cr_card',\n",
      "       'is_active_member', 'estimated_salary', 'exited'],\n",
      "      dtype='object')\n"
     ]
    }
   ],
   "source": [
    "for col in df.columns:\n",
    "    new_col = camel_to_snake(col)\n",
    "    df.rename(columns = {col : new_col}, inplace=True)\n",
    "print(df.columns) # контроль"
   ]
  },
  {
   "cell_type": "markdown",
   "metadata": {},
   "source": [
    "### 1.3. Определение признаков"
   ]
  },
  {
   "cell_type": "markdown",
   "metadata": {},
   "source": [
    "В исходном дата фрейме не все колонки можно отнести к признакам, а именно:\n",
    "- `customer_id` (_идентификатор клиента_) - это уникальное значения для каждого объекта, индексация клиентов во внутренней системе банка. Эти значения нельзя стравнить между собой, и эти значения не может напрямую охарактеризовать клиента.\n",
    "- `surname` (_фамилия_) - среди клиентов могут попадаться однофамильцы, но их численность слишком мала, чтобы выстроить достоверную зависимость между фамилией и уходом клиента из банка."
   ]
  },
  {
   "cell_type": "code",
   "execution_count": 7,
   "metadata": {
    "scrolled": false
   },
   "outputs": [
    {
     "data": {
      "image/png": "[encoded data removed]",
      "text/plain": [
       "<Figure size 432x288 with 1 Axes>"
      ]
     },
     "metadata": {
      "needs_background": "light"
     },
     "output_type": "display_data"
    }
   ],
   "source": [
    "surname_count = df['surname'].value_counts()\n",
    "surname_count[surname_count > 1].plot(kind='hist', bins=30, range=(2, 32), grid=True,\n",
    "                                      xlabel='Количество людей с одинаковой фамилией',\n",
    "                                      ylabel='Частота повторений однофамильцев',\n",
    "                                      title='Гистограмма')\n",
    "\n",
    "target = df['exited']\n",
    "features = df.drop(['exited', 'customer_id', 'surname'], axis=1)"
   ]
  },
  {
   "cell_type": "markdown",
   "metadata": {},
   "source": [
    "### 1.4. Валидация данных"
   ]
  },
  {
   "cell_type": "markdown",
   "metadata": {},
   "source": [
    "Деление исходной выборки на 3 части:\n",
    "- Тренировочная (60%);\n",
    "- Валидационная (20%);\n",
    "- Тестовая (20%).\n",
    "\n",
    "Добавлена **стратификация**, позволяющая сохранить изначальное распределение классов во всех новых датасетах."
   ]
  },
  {
   "cell_type": "code",
   "execution_count": 8,
   "metadata": {},
   "outputs": [],
   "source": [
    "# выделение тренировочной выборки\n",
    "features_train, features_other, target_train, target_other = train_test_split(\n",
    "    features, target, train_size=0.60, stratify=target, random_state=1234)\n",
    "\n",
    "# выделение валидационной и тестовой выборок\n",
    "features_valid, features_test, target_valid, target_test = train_test_split(\n",
    "    features_other, target_other, test_size=0.50, stratify=target_other, random_state=1234)"
   ]
  },
  {
   "cell_type": "code",
   "execution_count": 9,
   "metadata": {},
   "outputs": [
    {
     "data": {
      "text/html": [
       "<div>\n",
       "<style scoped>\n",
       "    .dataframe tbody tr th:only-of-type {\n",
       "        vertical-align: middle;\n",
       "    }\n",
       "\n",
       "    .dataframe tbody tr th {\n",
       "        vertical-align: top;\n",
       "    }\n",
       "\n",
       "    .dataframe thead th {\n",
       "        text-align: right;\n",
       "    }\n",
       "</style>\n",
       "<table border=\"1\" class=\"dataframe\">\n",
       "  <thead>\n",
       "    <tr style=\"text-align: right;\">\n",
       "      <th></th>\n",
       "      <th>credit_score</th>\n",
       "      <th>geography</th>\n",
       "      <th>gender</th>\n",
       "      <th>age</th>\n",
       "      <th>tenure</th>\n",
       "      <th>balance</th>\n",
       "      <th>num_of_products</th>\n",
       "      <th>has_cr_card</th>\n",
       "      <th>is_active_member</th>\n",
       "      <th>estimated_salary</th>\n",
       "    </tr>\n",
       "  </thead>\n",
       "  <tbody>\n",
       "    <tr>\n",
       "      <th>6342</th>\n",
       "      <td>581</td>\n",
       "      <td>France</td>\n",
       "      <td>Female</td>\n",
       "      <td>37</td>\n",
       "      <td>10</td>\n",
       "      <td>104255.03</td>\n",
       "      <td>1</td>\n",
       "      <td>1</td>\n",
       "      <td>0</td>\n",
       "      <td>86609.37</td>\n",
       "    </tr>\n",
       "    <tr>\n",
       "      <th>7447</th>\n",
       "      <td>636</td>\n",
       "      <td>Germany</td>\n",
       "      <td>Male</td>\n",
       "      <td>30</td>\n",
       "      <td>8</td>\n",
       "      <td>141787.31</td>\n",
       "      <td>2</td>\n",
       "      <td>1</td>\n",
       "      <td>1</td>\n",
       "      <td>109685.61</td>\n",
       "    </tr>\n",
       "    <tr>\n",
       "      <th>8355</th>\n",
       "      <td>504</td>\n",
       "      <td>Spain</td>\n",
       "      <td>Male</td>\n",
       "      <td>44</td>\n",
       "      <td>4</td>\n",
       "      <td>113522.64</td>\n",
       "      <td>1</td>\n",
       "      <td>1</td>\n",
       "      <td>1</td>\n",
       "      <td>12405.20</td>\n",
       "    </tr>\n",
       "    <tr>\n",
       "      <th>355</th>\n",
       "      <td>539</td>\n",
       "      <td>France</td>\n",
       "      <td>Male</td>\n",
       "      <td>30</td>\n",
       "      <td>0</td>\n",
       "      <td>0.00</td>\n",
       "      <td>2</td>\n",
       "      <td>1</td>\n",
       "      <td>0</td>\n",
       "      <td>160979.66</td>\n",
       "    </tr>\n",
       "    <tr>\n",
       "      <th>3649</th>\n",
       "      <td>597</td>\n",
       "      <td>France</td>\n",
       "      <td>Male</td>\n",
       "      <td>41</td>\n",
       "      <td>4</td>\n",
       "      <td>153198.23</td>\n",
       "      <td>1</td>\n",
       "      <td>1</td>\n",
       "      <td>1</td>\n",
       "      <td>92090.36</td>\n",
       "    </tr>\n",
       "  </tbody>\n",
       "</table>\n",
       "</div>"
      ],
      "text/plain": [
       "      credit_score geography  gender  age  tenure    balance  num_of_products  \\\n",
       "6342           581    France  Female   37      10  104255.03                1   \n",
       "7447           636   Germany    Male   30       8  141787.31                2   \n",
       "8355           504     Spain    Male   44       4  113522.64                1   \n",
       "355            539    France    Male   30       0       0.00                2   \n",
       "3649           597    France    Male   41       4  153198.23                1   \n",
       "\n",
       "      has_cr_card  is_active_member  estimated_salary  \n",
       "6342            1                 0          86609.37  \n",
       "7447            1                 1         109685.61  \n",
       "8355            1                 1          12405.20  \n",
       "355             1                 0         160979.66  \n",
       "3649            1                 1          92090.36  "
      ]
     },
     "metadata": {},
     "output_type": "display_data"
    },
    {
     "data": {
      "text/plain": [
       "6342    0\n",
       "7447    0\n",
       "8355    0\n",
       "355     0\n",
       "3649    0\n",
       "Name: exited, dtype: int64"
      ]
     },
     "metadata": {},
     "output_type": "display_data"
    }
   ],
   "source": [
    "display(features_valid.head())\n",
    "display(target_valid.to_frame().head())"
   ]
  },
  {
   "cell_type": "markdown",
   "metadata": {},
   "source": [
    "Контроль стратификации:"
   ]
  },
  {
   "cell_type": "code",
   "execution_count": 8,
   "metadata": {},
   "outputs": [
    {
     "name": "stdout",
     "output_type": "stream",
     "text": [
      "Кол-во объектов тренировочной выборки: 6000, и доля от исходных данных 60%\n"
     ]
    },
    {
     "data": {
      "text/html": [
       "<div>\n",
       "<style scoped>\n",
       "    .dataframe tbody tr th:only-of-type {\n",
       "        vertical-align: middle;\n",
       "    }\n",
       "\n",
       "    .dataframe tbody tr th {\n",
       "        vertical-align: top;\n",
       "    }\n",
       "\n",
       "    .dataframe thead th {\n",
       "        text-align: right;\n",
       "    }\n",
       "</style>\n",
       "<table border=\"1\" class=\"dataframe\">\n",
       "  <thead>\n",
       "    <tr style=\"text-align: right;\">\n",
       "      <th></th>\n",
       "      <th>exited</th>\n",
       "    </tr>\n",
       "  </thead>\n",
       "  <tbody>\n",
       "    <tr>\n",
       "      <th>0</th>\n",
       "      <td>0.796333</td>\n",
       "    </tr>\n",
       "    <tr>\n",
       "      <th>1</th>\n",
       "      <td>0.203667</td>\n",
       "    </tr>\n",
       "  </tbody>\n",
       "</table>\n",
       "</div>"
      ],
      "text/plain": [
       "     exited\n",
       "0  0.796333\n",
       "1  0.203667"
      ]
     },
     "metadata": {},
     "output_type": "display_data"
    },
    {
     "name": "stdout",
     "output_type": "stream",
     "text": [
      "Кол-во объектов вализационной выборки: 2000, и доля от исходных данных 20%\n"
     ]
    },
    {
     "data": {
      "text/html": [
       "<div>\n",
       "<style scoped>\n",
       "    .dataframe tbody tr th:only-of-type {\n",
       "        vertical-align: middle;\n",
       "    }\n",
       "\n",
       "    .dataframe tbody tr th {\n",
       "        vertical-align: top;\n",
       "    }\n",
       "\n",
       "    .dataframe thead th {\n",
       "        text-align: right;\n",
       "    }\n",
       "</style>\n",
       "<table border=\"1\" class=\"dataframe\">\n",
       "  <thead>\n",
       "    <tr style=\"text-align: right;\">\n",
       "      <th></th>\n",
       "      <th>exited</th>\n",
       "    </tr>\n",
       "  </thead>\n",
       "  <tbody>\n",
       "    <tr>\n",
       "      <th>0</th>\n",
       "      <td>0.7965</td>\n",
       "    </tr>\n",
       "    <tr>\n",
       "      <th>1</th>\n",
       "      <td>0.2035</td>\n",
       "    </tr>\n",
       "  </tbody>\n",
       "</table>\n",
       "</div>"
      ],
      "text/plain": [
       "   exited\n",
       "0  0.7965\n",
       "1  0.2035"
      ]
     },
     "metadata": {},
     "output_type": "display_data"
    },
    {
     "name": "stdout",
     "output_type": "stream",
     "text": [
      "Кол-во объектов тестовой выборки: 2000, и доля от исходных данных 20%\n"
     ]
    },
    {
     "data": {
      "text/html": [
       "<div>\n",
       "<style scoped>\n",
       "    .dataframe tbody tr th:only-of-type {\n",
       "        vertical-align: middle;\n",
       "    }\n",
       "\n",
       "    .dataframe tbody tr th {\n",
       "        vertical-align: top;\n",
       "    }\n",
       "\n",
       "    .dataframe thead th {\n",
       "        text-align: right;\n",
       "    }\n",
       "</style>\n",
       "<table border=\"1\" class=\"dataframe\">\n",
       "  <thead>\n",
       "    <tr style=\"text-align: right;\">\n",
       "      <th></th>\n",
       "      <th>exited</th>\n",
       "    </tr>\n",
       "  </thead>\n",
       "  <tbody>\n",
       "    <tr>\n",
       "      <th>0</th>\n",
       "      <td>0.796</td>\n",
       "    </tr>\n",
       "    <tr>\n",
       "      <th>1</th>\n",
       "      <td>0.204</td>\n",
       "    </tr>\n",
       "  </tbody>\n",
       "</table>\n",
       "</div>"
      ],
      "text/plain": [
       "   exited\n",
       "0   0.796\n",
       "1   0.204"
      ]
     },
     "metadata": {},
     "output_type": "display_data"
    }
   ],
   "source": [
    "for data, name in zip([target_train, target_valid, target_test], ['тренировочной', 'вализационной', 'тестовой']):\n",
    "    print(f'Кол-во объектов {name} выборки: {data.shape[0]}, и доля от исходных данных {round(data.shape[0]/df.shape[0]*100)}%')\n",
    "    display(data.value_counts(normalize=True).to_frame())"
   ]
  },
  {
   "cell_type": "markdown",
   "metadata": {},
   "source": [
    "### 1.5. Кодирование признаков (One-Hot Encoding)"
   ]
  },
  {
   "cell_type": "code",
   "execution_count": 9,
   "metadata": {},
   "outputs": [],
   "source": [
    "features_train = pd.get_dummies(features_train, columns=['geography', 'gender'], drop_first=True)\n",
    "features_valid = pd.get_dummies(features_valid, columns=['geography', 'gender'], drop_first=True)\n",
    "features_test  = pd.get_dummies(features_test,  columns=['geography', 'gender'], drop_first=True)"
   ]
  },
  {
   "cell_type": "markdown",
   "metadata": {},
   "source": [
    "### 1.6. Масштабирование признаков"
   ]
  },
  {
   "cell_type": "code",
   "execution_count": 10,
   "metadata": {},
   "outputs": [],
   "source": [
    "numeric = ['credit_score', 'age', 'tenure', 'balance', 'num_of_products', 'estimated_salary']\n",
    "\n",
    "scaler = StandardScaler()\n",
    "scaler.fit(features_train[numeric])\n",
    "for sample in [features_train, features_valid, features_test]:\n",
    "    sample[numeric] = scaler.transform(sample[numeric])"
   ]
  },
  {
   "cell_type": "markdown",
   "metadata": {},
   "source": [
    "**Вывод:** Название колонок приведено к единому стандарту *snake_case*, который будет использоваться далее во всём проекте. Из исходного датафрейма были убраны колонки `customer_id` и `surname` посколько они не подходят на роль признаков. Оставшиеся данные были **закодированы** (One-Hot Encoding), **отмасштабированы** (Стандартизация данных) и **разделены** на 3 выборки: _тренировочная_, _валидационная_ и _тестовая_. Среди них выдержано одинаковое соотношение классов. Но присутствует **дисбаланс** классов, работа над которым будет произведена далее.\n",
    "___"
   ]
  },
  {
   "cell_type": "markdown",
   "metadata": {},
   "source": [
    "\n",
    "## 2. Исследование задачи"
   ]
  },
  {
   "cell_type": "markdown",
   "metadata": {},
   "source": [
    "Целевой признак принимает бинарное категориальное значение: клиент ушел из банка или нет. Задача сводится к _бинарной классификации_. Для этой задачи подходят три типа моделей:\n",
    "- _Логистическая регрессия_ (LR)\n",
    "- _Решающее дерево_ (DT)\n",
    "- _Случайный лес_ (RF)\n",
    "\n",
    "Будут подобраны гиперпараметры, и сравнён наилучший результат прездсказаний. Для обучения будут использоваться данные в первозданном виде, без внесённых изменений. Это требуется для оценки влияния дисбаланса классов."
   ]
  },
  {
   "cell_type": "markdown",
   "metadata": {},
   "source": [
    "### 2.1. Логистическая регрессия (LR)"
   ]
  },
  {
   "cell_type": "code",
   "execution_count": 11,
   "metadata": {},
   "outputs": [
    {
     "name": "stdout",
     "output_type": "stream",
     "text": [
      "Максимальная оценка качества модели: 0.329, при количестве итераций: 10\n",
      "Плотность: 0.229 | Точность: 0.589 | ROC_AUC: 0.594\n"
     ]
    }
   ],
   "source": [
    "best_f1 = 0\n",
    "for iteration in range(10, 21, 2):  # подбор гиперпараметров модели для наивышлего качества\n",
    "    model = LogisticRegression(max_iter=iteration, solver='liblinear', random_state=1234) # создание модели\n",
    "    model.fit(features_train, target_train)  # обучение модели\n",
    "    prediction_valid = model.predict(features_valid)  # предсказание на валидационной выборке\n",
    "    f1_valid = f1_score(target_valid, prediction_valid) # оценка предсказаний\n",
    "    if f1_valid > best_f1:\n",
    "        best_f1 = f1_valid # фиксация лучших результатов\n",
    "        best_iter = iteration # и гиперпараметров\n",
    "        best_prediction_valid = prediction_valid\n",
    "\n",
    "print('Максимальная оценка качества модели: {:.3f}, при количестве итераций: {}'.format(best_f1, best_iter))\n",
    "print('Плотность: {:.3f} | Точность: {:.3f} | ROC_AUC: {:.3f}'.format(recall_score(target_valid, best_prediction_valid),\n",
    "                                                                      precision_score(target_valid, best_prediction_valid),\n",
    "                                                                      roc_auc_score(target_valid, best_prediction_valid)))"
   ]
  },
  {
   "cell_type": "markdown",
   "metadata": {},
   "source": [
    "### 2.2. Решающее дерево (DT)"
   ]
  },
  {
   "cell_type": "code",
   "execution_count": 12,
   "metadata": {},
   "outputs": [
    {
     "name": "stdout",
     "output_type": "stream",
     "text": [
      "Максимальная оценка качества модели: 0.620, при глубине решающего дерева: 7\n",
      "Плотность: 0.587 | Точность: 0.657 | ROC_AUC: 0.754\n"
     ]
    },
    {
     "data": {
      "image/png": "[encoded data removed]",
      "text/plain": [
       "<Figure size 1152x504 with 1 Axes>"
      ]
     },
     "metadata": {
      "needs_background": "light"
     },
     "output_type": "display_data"
    }
   ],
   "source": [
    "best_f1 = 0\n",
    "best_depth = 0\n",
    "for depth in range(1, 11):\n",
    "    model = DecisionTreeClassifier(max_depth=depth, random_state=1234)\n",
    "    model.fit(features_train, target_train)\n",
    "    prediction_valid = model.predict(features_valid)\n",
    "    f1_valid = f1_score(target_valid, prediction_valid)\n",
    "    if f1_valid > best_f1:\n",
    "        best_f1 = f1_valid\n",
    "        best_depth = depth\n",
    "        best_model = model\n",
    "        best_prediction_valid = prediction_valid\n",
    "\n",
    "print('Максимальная оценка качества модели: {:.3f}, при глубине решающего дерева: {}'.format(best_f1, best_depth))\n",
    "print('Плотность: {:.3f} | Точность: {:.3f} | ROC_AUC: {:.3f}'.format(recall_score(target_valid, best_prediction_valid),\n",
    "                                                                      precision_score(target_valid, best_prediction_valid),\n",
    "                                                                      roc_auc_score(target_valid, best_prediction_valid)))\n",
    "# визуализация решающего дерева\n",
    "fig = plt.figure(figsize=(16,7))\n",
    "plot_tree(best_model, max_depth=3, fontsize=11)\n",
    "plt.show();"
   ]
  },
  {
   "cell_type": "markdown",
   "metadata": {},
   "source": [
    "### 2.3. Случайный лес (RF)"
   ]
  },
  {
   "cell_type": "code",
   "execution_count": 13,
   "metadata": {},
   "outputs": [
    {
     "name": "stderr",
     "output_type": "stream",
     "text": [
      "100%|██████████████████████████████████████████| 10/10 [00:47<00:00,  4.71s/it]"
     ]
    },
    {
     "name": "stdout",
     "output_type": "stream",
     "text": [
      "Максимальная оценка модели: 0.624, при кол-ве деревьев: 80, и их глубине: 15\n",
      "Плотность: 0.518 | Точность: 0.784 | ROC_AUC: 0.741\n"
     ]
    },
    {
     "name": "stderr",
     "output_type": "stream",
     "text": [
      "\n"
     ]
    }
   ],
   "source": [
    "best_f1 = 0\n",
    "list_f1 = []\n",
    "list_est = []\n",
    "\n",
    "for est in tqdm(range(10, 101, 10)):\n",
    "    for depth in range(10, 18):\n",
    "        model = RandomForestClassifier(max_depth=depth, n_estimators=est, random_state=1234)\n",
    "        model.fit(features_train, target_train)\n",
    "        prediction_valid = model.predict(features_valid)\n",
    "        f1_valid = f1_score(target_valid, prediction_valid) \n",
    "        if f1_valid > best_f1:\n",
    "            best_f1 = f1_valid\n",
    "            best_dep = depth\n",
    "            best_est = est\n",
    "            best_prediction_valid = prediction_valid\n",
    "    list_est.append(est)\n",
    "    list_f1.append(best_f1)\n",
    "\n",
    "print('Максимальная оценка модели: {:.3f}, при кол-ве деревьев: {}, и их глубине: {}'.format(best_f1, best_est, best_dep))\n",
    "print('Плотность: {:.3f} | Точность: {:.3f} | ROC_AUC: {:.3f}'.format(recall_score(target_valid, best_prediction_valid),\n",
    "                                                                      precision_score(target_valid, best_prediction_valid),\n",
    "                                                                      roc_auc_score(target_valid, best_prediction_valid)))"
   ]
  },
  {
   "cell_type": "code",
   "execution_count": 14,
   "metadata": {},
   "outputs": [
    {
     "data": {
      "image/png": "[encoded data removed]",
      "text/plain": [
       "<Figure size 1080x504 with 1 Axes>"
      ]
     },
     "metadata": {
      "needs_background": "light"
     },
     "output_type": "display_data"
    }
   ],
   "source": [
    "# Визуализация зависимости качества модели от изменения гиперпараметра.\n",
    "f1_score_data = pd.DataFrame({'est': list_est, 'f1_score': list_f1})\n",
    "f1_score_data.plot(style='o-', x='est', y='f1_score', grid=True, legend=False, figsize=(15,7), ylim=(0.60, 0.65),\n",
    "                   title='Зависимость качества модели от настройки гиперпараметра.',\n",
    "                   xlabel='n_estimators - кол-во деревьев в \"Случайном лесу\"',\n",
    "                   ylabel='метрика F1')\n",
    "plt.show();"
   ]
  },
  {
   "cell_type": "markdown",
   "metadata": {},
   "source": [
    "**Вывод:** Наиболее точная модель **Случайный лес**: наилудшая F1=0.62, при максимальной глубине дерева: 15, и достаточным кол-ве деревьев: 80. Благодаря предварительно выполненной стратификации данных, модели **RF** работает достаточно быстро, несмотря на более сложную структуру работы. (проводил сравнение времи работы для обоих случаев)\n",
    "\n",
    "**Решающее дерево** (макс. глубина = 7). Незначительное отличие по качеству предсказаний (`best_f1=0.62`), но может быть полезна для работы с бОльшими выборками, благодаря быстродействию.\n",
    "\n",
    "**Логистическая регрессия** - самыя низкокачественная в предсказания (`best_f1=0.33`).\n",
    "\n",
    "На этом этапе подбор гиперпараметров завершен, и становится очевидной необходимость в решении проблемы дисбалансом.\n",
    "___"
   ]
  },
  {
   "cell_type": "markdown",
   "metadata": {},
   "source": [
    "## 3. Борьба с дисбалансом"
   ]
  },
  {
   "cell_type": "markdown",
   "metadata": {},
   "source": [
    "Исходя из задания, в качестве основных метрик для оценки методов борьбы с дисбалансом будут использоваться:\n",
    "- **F1_score** - показывающее условную \"параллельность\" _recall_ и _precision_, соотношение ложных положительных и отрицательных прогнозов.\n",
    "- **ROC - кривая** - график распределения между _полнотой_ положительных ответов и их ошибками, в зависимости от порога классификации. А так же **ROC_AUC** - площадь под этим графиком."
   ]
  },
  {
   "cell_type": "markdown",
   "metadata": {},
   "source": [
    "### 3.1. Изменение веса классов"
   ]
  },
  {
   "cell_type": "code",
   "execution_count": 15,
   "metadata": {},
   "outputs": [
    {
     "name": "stdout",
     "output_type": "stream",
     "text": [
      "Максимальная оценка модели: 0.624, при кол-ве деревьев: 80, и их глубине: 15\n",
      "Плотность: 0.509 | Точность: 0.739 | ROC_AUC: 0.731\n"
     ]
    }
   ],
   "source": [
    "model = RandomForestClassifier(max_depth=best_dep, n_estimators=best_est, random_state=1234, class_weight='balanced')\n",
    "model.fit(features_train, target_train)\n",
    "prediction_valid = model.predict(features_valid)\n",
    "f1_valid = f1_score(target_valid, prediction_valid)\n",
    "\n",
    "print('Максимальная оценка модели: {:.3f}, при кол-ве деревьев: {}, и их глубине: {}'.format(best_f1, best_est, best_dep))\n",
    "print('Плотность: {:.3f} | Точность: {:.3f} | ROC_AUC: {:.3f}'.format(recall_score(target_valid, prediction_valid),\n",
    "                                                                      precision_score(target_valid, prediction_valid),\n",
    "                                                                      roc_auc_score(target_valid, prediction_valid)))"
   ]
  },
  {
   "cell_type": "markdown",
   "metadata": {},
   "source": [
    "### 3.2. Изменение порога классификации"
   ]
  },
  {
   "cell_type": "code",
   "execution_count": 16,
   "metadata": {},
   "outputs": [
    {
     "name": "stdout",
     "output_type": "stream",
     "text": [
      "Наивысший показатель F1 = 0.620, при смещении порога до значения 0.42\n"
     ]
    },
    {
     "data": {
      "image/png": "[encoded data removed]",
      "text/plain": [
       "<Figure size 432x432 with 1 Axes>"
      ]
     },
     "metadata": {
      "needs_background": "light"
     },
     "output_type": "display_data"
    }
   ],
   "source": [
    "model = DecisionTreeClassifier(max_depth=best_depth, random_state=1234)\n",
    "model.fit(features_train, target_train)\n",
    "probabilities_valid = model.predict_proba(features_valid)\n",
    "probabilities_one_valid = probabilities_valid[:, 1]\n",
    "\n",
    "fpr, tpr, thresholds = roc_curve(target_valid, probabilities_one_valid)\n",
    "\n",
    "best_f1 = 0\n",
    "for threshold in thresholds:\n",
    "    predicted_valid = probabilities_one_valid > threshold\n",
    "    f1 = f1_score(target_valid, predicted_valid)\n",
    "    if best_f1 < f1:\n",
    "        best_f1 = f1\n",
    "        best_threshold = threshold\n",
    "\n",
    "print(\"Наивысший показатель F1 = {:.3f}, при смещении порога до значения {:.2f}\".format(best_f1, best_threshold))\n",
    "plt.figure(figsize = (6, 6))\n",
    "plt.step(fpr, tpr, where='post')\n",
    "plt.xlim(0, 1)\n",
    "plt.ylim(0, 1)\n",
    "plt.xlabel('FPR')\n",
    "plt.ylabel('TPR')\n",
    "plt.title('ROC-кривая')\n",
    "plt.plot([0, 1], [0, 1], linestyle='--')\n",
    "plt.show();"
   ]
  },
  {
   "cell_type": "markdown",
   "metadata": {},
   "source": [
    "### 3.3. Уменьшение выборки (DownSampling)"
   ]
  },
  {
   "cell_type": "code",
   "execution_count": 17,
   "metadata": {},
   "outputs": [],
   "source": [
    "# деление признаков по классам\n",
    "target_train_1 = target_train[target_train == 1]\n",
    "target_train_0 = target_train[target_train == 0]\n",
    "features_train_1 = features_train[target_train == 1]\n",
    "features_train_0 = features_train[target_train == 0]\n",
    "\n",
    "# уменьшение выборки многочисленного класса\n",
    "target_downsampled = pd.concat([target_train_0.sample(frac=0.2, random_state=1234)] + [target_train_1])\n",
    "features_downsampled = pd.concat([features_train_0.sample(frac=0.2, random_state=1234)] + [features_train_1])\n",
    "\n",
    "# перемешивание объектов внутри выборки\n",
    "features_downsampled, target_downsampled = shuffle(features_downsampled, target_downsampled, random_state=1234)"
   ]
  },
  {
   "cell_type": "code",
   "execution_count": 18,
   "metadata": {},
   "outputs": [
    {
     "name": "stderr",
     "output_type": "stream",
     "text": [
      "100%|██████████████████████████████████████████| 10/10 [00:30<00:00,  3.10s/it]"
     ]
    },
    {
     "name": "stdout",
     "output_type": "stream",
     "text": [
      "Максимальная оценка модели: 0.575, при кол-ве деревьев: 60, и их глубине: 12\n",
      "Плотность: 0.821 | Точность: 0.443 | ROC_AUC: 0.778\n"
     ]
    },
    {
     "name": "stderr",
     "output_type": "stream",
     "text": [
      "\n"
     ]
    }
   ],
   "source": [
    "best_f1 = 0\n",
    "list_f1 = []\n",
    "list_est = []\n",
    "\n",
    "for est in tqdm(range(10, 101, 10)):\n",
    "    for depth in range(5, 16):\n",
    "        model = RandomForestClassifier(max_depth=depth, n_estimators=est, random_state=1234)\n",
    "        model.fit(features_downsampled, target_downsampled)\n",
    "        prediction_valid = model.predict(features_valid)\n",
    "        f1_valid = f1_score(target_valid, prediction_valid) \n",
    "        if f1_valid > best_f1:\n",
    "            best_f1 = f1_valid\n",
    "            best_dep = depth\n",
    "            best_est = est\n",
    "            best_prediction_valid = prediction_valid\n",
    "    list_est.append(est)\n",
    "    list_f1.append(best_f1)\n",
    "\n",
    "print('Максимальная оценка модели: {:.3f}, при кол-ве деревьев: {}, и их глубине: {}'.format(best_f1, best_est, best_dep))\n",
    "print('Плотность: {:.3f} | Точность: {:.3f} | ROC_AUC: {:.3f}'.format(recall_score(target_valid, best_prediction_valid),\n",
    "                                                                      precision_score(target_valid, best_prediction_valid),\n",
    "                                                                      roc_auc_score(target_valid, best_prediction_valid)))"
   ]
  },
  {
   "cell_type": "markdown",
   "metadata": {},
   "source": [
    "### 3.4. Увеличение выборки (UpSampling)"
   ]
  },
  {
   "cell_type": "code",
   "execution_count": 19,
   "metadata": {},
   "outputs": [],
   "source": [
    "# деление признаков по классам\n",
    "target_train_1 = target_train[target_train == 1]\n",
    "target_train_0 = target_train[target_train == 0]\n",
    "features_train_1 = features_train[target_train == 1]\n",
    "features_train_0 = features_train[target_train == 0]\n",
    "\n",
    "# увеличение выборки малочисленного класса\n",
    "target_upsampled = pd.concat([target_train_0] + [target_train_1] * 4)\n",
    "features_upsampled = pd.concat([features_train_0] + [features_train_1] * 4)\n",
    "\n",
    "# перемешивание объектов внутри выборки\n",
    "features_upsampled, target_upsampled = shuffle(features_upsampled, target_upsampled, random_state=1234)"
   ]
  },
  {
   "cell_type": "code",
   "execution_count": 20,
   "metadata": {},
   "outputs": [
    {
     "name": "stderr",
     "output_type": "stream",
     "text": [
      "100%|██████████████████████████████████████████| 10/10 [01:30<00:00,  9.00s/it]"
     ]
    },
    {
     "name": "stdout",
     "output_type": "stream",
     "text": [
      "Максимальная оценка модели: 0.639, при кол-ве деревьев: 60, и их глубине: 13\n",
      "Плотность: 0.661 | Точность: 0.618 | ROC_AUC: 0.778\n"
     ]
    },
    {
     "name": "stderr",
     "output_type": "stream",
     "text": [
      "\n"
     ]
    }
   ],
   "source": [
    "best_f1 = 0\n",
    "list_f1 = []\n",
    "list_est = []\n",
    "\n",
    "for est in tqdm(range(10, 101, 10)):\n",
    "    for depth in range(10, 21):\n",
    "        model = RandomForestClassifier(max_depth=depth, n_estimators=est, random_state=1234, class_weight='balanced')\n",
    "        model.fit(features_upsampled, target_upsampled)\n",
    "        prediction_valid = model.predict(features_valid)\n",
    "        f1_valid = f1_score(target_valid, prediction_valid) \n",
    "        if f1_valid > best_f1:\n",
    "            best_f1 = f1_valid\n",
    "            best_dep = depth\n",
    "            best_est = est\n",
    "            best_prediction_valid = prediction_valid\n",
    "    list_est.append(est)\n",
    "    list_f1.append(best_f1)\n",
    "\n",
    "print('Максимальная оценка модели: {:.3f}, при кол-ве деревьев: {}, и их глубине: {}'.format(best_f1, best_est, best_dep))\n",
    "print('Плотность: {:.3f} | Точность: {:.3f} | ROC_AUC: {:.3f}'.format(recall_score(target_valid, best_prediction_valid),\n",
    "                                                                      precision_score(target_valid, best_prediction_valid),\n",
    "                                                                      roc_auc_score(target_valid, best_prediction_valid)))"
   ]
  },
  {
   "cell_type": "code",
   "execution_count": 21,
   "metadata": {},
   "outputs": [
    {
     "data": {
      "image/png": "[encoded data removed]",
      "text/plain": [
       "<Figure size 1080x504 with 1 Axes>"
      ]
     },
     "metadata": {
      "needs_background": "light"
     },
     "output_type": "display_data"
    }
   ],
   "source": [
    "# Визуализация зависимости качества модели от изменения гиперпараметра.\n",
    "f1_score_data = pd.DataFrame({'est': list_est, 'f1_score': list_f1})\n",
    "f1_score_data.plot(style='o-', x='est', y='f1_score', grid=True, legend=False, figsize=(15,7), ylim=(0.60, 0.65),\n",
    "                   title='Зависимость качества модели от настройки гиперпараметра.',\n",
    "                   xlabel='n_estimators - кол-во деревьев в \"Случайном лесу\"',\n",
    "                   ylabel='метрика F1')\n",
    "plt.show();"
   ]
  },
  {
   "cell_type": "markdown",
   "metadata": {},
   "source": [
    "**Вывод:** Изменение **веса классов** - не принёс изменений метрика _F1_ не зменилась.\n",
    "\n",
    "**Изменение порога** позволило улудшить качества Логистической регрессии (`best_f1 = 0.62`), но недостаточно чтобы опередить модель Случайного леса.\n",
    "\n",
    "**Увеличении выборки** показало наивысший результат: `best_f1 = 0.64`, в то время как уменьшение выборки - ухудшило модель.\n",
    "___"
   ]
  },
  {
   "cell_type": "markdown",
   "metadata": {},
   "source": [
    "## 4. Тестирование модели"
   ]
  },
  {
   "cell_type": "markdown",
   "metadata": {},
   "source": [
    "Для учёта дисбаланса будет использоваться **Увеличение выборки**. Дабы именьшить дублирование малого класса, будут использоваться объекты 1-ого класса из вылидационной выборки. Таким образом получиться уменьшить кол-во синтетических объектов и связей."
   ]
  },
  {
   "cell_type": "code",
   "execution_count": 22,
   "metadata": {},
   "outputs": [],
   "source": [
    "# деление признаков по классам\n",
    "target_valid_1 = target_valid[target_valid == 1]\n",
    "target_train_1 = target_train[target_train == 1]\n",
    "target_train_0 = target_train[target_train == 0]\n",
    "features_valid_1 = features_valid[target_valid == 1]\n",
    "features_train_1 = features_train[target_train == 1]\n",
    "features_train_0 = features_train[target_train == 0]\n",
    "\n",
    "# увеличение выборки малочисленного класса\n",
    "target_combined = pd.concat([target_train_0] + ([target_train_1] + [target_valid_1]) * 2)\n",
    "features_combined = pd.concat([features_train_0] + ([features_train_1] + [features_valid_1]) * 2)\n",
    "\n",
    "# перемешивание объектов внутри выборки\n",
    "features_combined, target_combined = shuffle(features_combined, target_combined, random_state=1234)"
   ]
  },
  {
   "cell_type": "code",
   "execution_count": 23,
   "metadata": {},
   "outputs": [
    {
     "name": "stdout",
     "output_type": "stream",
     "text": [
      "Максимальная оценка модели: 0.639, при кол-ве деревьев: 60, и их глубине: 13\n",
      "Плотность: 0.600 | Точность: 0.674 | ROC_AUC: 0.763\n"
     ]
    }
   ],
   "source": [
    "model = RandomForestClassifier(max_depth=best_dep, n_estimators=best_est, random_state=1234, class_weight='balanced')\n",
    "model.fit(features_upsampled, target_upsampled)\n",
    "prediction_test = model.predict(features_test)\n",
    "f1_valid = f1_score(target_valid, prediction_valid)\n",
    "\n",
    "print('Максимальная оценка модели: {:.3f}, при кол-ве деревьев: {}, и их глубине: {}'.format(best_f1, best_est, best_dep))\n",
    "print('Плотность: {:.3f} | Точность: {:.3f} | ROC_AUC: {:.3f}'.format(recall_score(target_valid, prediction_valid),\n",
    "                                                                      precision_score(target_valid, prediction_valid),\n",
    "                                                                      roc_auc_score(target_valid, prediction_valid)))"
   ]
  },
  {
   "cell_type": "markdown",
   "metadata": {},
   "source": [
    "**Общий вывод:**\n",
    "Из исходных данных были отобраны только те значения, которые подходят в качестве признаков. Категориальные данные были закодированы с помощью **One-Hot Encodind**, а количественные были стандартизированы с помощью **StandartScaler**.\n",
    "\n",
    "Задача подходит под тип: бинарной классификации, для выполнение которой выбраны модели: Логистическая регрессия (LR), Решающее дерево (DT) и Случайный лес (RF). Экспериментальным путём были подобраны подходящие _гиперпараметры_ для наилучшего результата предсказаний. Среди вышеупомянутых моделей выделилась модель: Случайный лес (RF).\n",
    "\n",
    "Между классами присутствует дисбаланс. Целевой класс находится в меньшенстве: ушедших клиентов в 4 раза меньше оставшихся. Эту проблему получилось решить за счёт _Увеличении выборки_ целевого класса. Остальные метода: _уменьшение выборки_, _изменение порога классификации_ или _веса класса_ - не принесли лучших результатов.\n",
    "\n",
    "Итоговой сборкой стала: модель **Случайный лес (RF)** с **увеличения выборки целового класса**.\n",
    "\n",
    "На тесте получились стравнительно такие же значения метрик, как и на валидационной выборке. По этому можно судить, что модель смогла установить связь между признаками. Гиперпараметры модели подобраны таким образом, чтобы уменьшить ложные предсказания, и не нарушить баланс между ними.\n",
    "\n",
    "Но можно изменить баланс в пользу уменьшения ложных пропусков. Получится уменьшить число вовремя нераспознанных ушедших клиентов, но увеличится и кол-во постоянных клиентов, которые ошибочно будут получать рекламные предложения связанное с их уходом."
   ]
  }
 ],
 "metadata": {
  "kernelspec": {
   "display_name": "Python 3",
   "language": "python",
   "name": "python3"
  },
  "language_info": {
   "codemirror_mode": {
    "name": "ipython",
    "version": 3
   },
   "file_extension": ".py",
   "mimetype": "text/x-python",
   "name": "python",
   "nbconvert_exporter": "python",
   "pygments_lexer": "ipython3",
   "version": "3.8.8"
  },
  "toc": {
   "base_numbering": 1,
   "nav_menu": {},
   "number_sections": true,
   "sideBar": true,
   "skip_h1_title": true,
   "title_cell": "Содержание",
   "title_sidebar": "Contents",
   "toc_cell": true,
   "toc_position": {},
   "toc_section_display": true,
   "toc_window_display": true
  }
 },
 "nbformat": 4,
 "nbformat_minor": 2
}
